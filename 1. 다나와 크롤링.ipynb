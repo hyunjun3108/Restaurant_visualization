{
 "cells": [
  {
   "cell_type": "code",
   "execution_count": 1,
   "id": "9a1ed3c1-1992-45e9-af90-14d6261fd29d",
   "metadata": {},
   "outputs": [],
   "source": [
    "# 먼저 다나와에서 '무선청소기'를 검색한 후, selenium으로 크롬 브라우저를 생성하고 검색결과 페이지 url로 접속\n",
    "\n",
    "from selenium import webdriver\n",
    "from selenium.webdriver.chrome.service import Service\n",
    "from selenium.webdriver.chrome.options import Options\n",
    "from bs4 import BeautifulSoup\n",
    "from tqdm.notebook import tqdm\n",
    "import time\n",
    "import pandas as pd\n",
    "\n",
    "# Chrome 옵션 설정\n",
    "chrome_options = Options()\n",
    "chrome_options.add_experimental_option(\"detach\", True)  # 브라우저 자동 종료 방지\n",
    "chrome_options.add_experimental_option(\"excludeSwitches\", [\"enable-logging\"])  # 불필요한 에러 메시지 제거\n",
    "\n",
    "# WebDriver 초기화\n",
    "driver = webdriver.Chrome(\n",
    "    service=Service('C:/Users/dbsgu/chromedriver-win64/chromedriver.exe'),\n",
    "    options=chrome_options\n",
    ")\n",
    "\n",
    "# 웹페이지 접속\n",
    "url = 'https://prod.danawa.com/list/?cate=102207&shortcutKeyword=%EB%AC%B4%EC%84%A0%EC%B2%AD%EC%86%8C%EA%B8%B0'\n",
    "driver.get(url)"
   ]
  },
  {
   "cell_type": "code",
   "execution_count": 2,
   "id": "953d46e5-9396-49b9-b062-83555cfb9de9",
   "metadata": {},
   "outputs": [],
   "source": [
    "# 무선청소기 목록을 보면 각 상품별 상세 스펙과 가격이 나열되어 있다.\n",
    "# 우측에는 옵션에 따른 가격이 나타난다. 이 중 첫 가격으로 가져와 분석할 것이다.\n",
    "# 먼저 검색결과의 1페이지에 나온 30개의 상품 정보를 수집한다.\n",
    "\n",
    "html = driver.page_source\n",
    "soup = BeautifulSoup(html, 'html.parser')"
   ]
  },
  {
   "cell_type": "code",
   "execution_count": 3,
   "id": "001e8232-dc47-4585-8c58-fdc9b63cf2e2",
   "metadata": {},
   "outputs": [
    {
     "data": {
      "text/plain": [
       "31"
      ]
     },
     "execution_count": 3,
     "metadata": {},
     "output_type": "execute_result"
    }
   ],
   "source": [
    "# 상품정보는 태그명이 li이다. 해당 태그를 select 메서드로 찾고 태그의 개수를 확인한다.\n",
    "\n",
    "prod_items = soup.select('li.prod_item')\n",
    "len(prod_items)"
   ]
  },
  {
   "cell_type": "code",
   "execution_count": 4,
   "id": "6b4f7d7b-cdc8-47c0-889f-be8dc4965d89",
   "metadata": {},
   "outputs": [
    {
     "data": {
      "text/plain": [
       "30"
      ]
     },
     "execution_count": 4,
     "metadata": {},
     "output_type": "execute_result"
    }
   ],
   "source": [
    "# 현재 페이지에서 우리 찾는 상품은 30개 이기 때문에 상위 태그 정보를 추가해서 검색한다.\n",
    "\n",
    "prod_items = soup.select('div.main_prodlist > ul.product_list > li.prod_item')\n",
    "len(prod_items)"
   ]
  },
  {
   "cell_type": "code",
   "execution_count": 5,
   "id": "c5c9662c-0cfc-4c9e-80e2-6bc06a6054dd",
   "metadata": {},
   "outputs": [
    {
     "name": "stdout",
     "output_type": "stream",
     "text": [
      "삼성전자 비스포크 제트 VS20B956AX\n",
      "핸디스틱청소기/무선/흡입형/흡입력: 220W/스테이션 기능: 먼지비움, 충전, UVC LED, 스탠드거치/먼지비움시간: 14초/브러쉬: 바닥/물걸레: 별매/솔형/틈새/연장관/먼지봉투: 1.2L/[배터리] 사용시간: 1시간(최대)/분리형(1개)/리튬이온/[청소] LED라이트/싸이클론흡입/디지털인버터모터/워셔블헤파필터/크기(가로x세로x깊이): 250x930x202mm\n",
      "456820\n"
     ]
    }
   ],
   "source": [
    "# 상품정보들 중 상품명, 스펙 목록, 가격을 추출한다.\n",
    "\n",
    "title = prod_items[0].select('p.prod_name > a')[0].text.strip()\n",
    "spec_list = prod_items[0].select('div.spec_list')[0].text.strip()\n",
    "price = prod_items[0].select('p.price_sect > a > strong')[0].text.strip().replace(\",\",\"\")\n",
    "\n",
    "print(title)\n",
    "print(spec_list)\n",
    "print(price)"
   ]
  },
  {
   "cell_type": "code",
   "execution_count": 6,
   "id": "e19fe687-6b9d-4fa2-bd17-311bb381dffd",
   "metadata": {},
   "outputs": [
    {
     "name": "stdout",
     "output_type": "stream",
     "text": [
      "30\n",
      "[['삼성전자 비스포크 제트 VS20B956AX', '핸디스틱청소기/무선/흡입형/흡입력: 220W/스테이션 기능: 먼지비움, 충전, UVC LED, 스탠드거치/먼지비움시간: 14초/브러쉬: 바닥/물걸레: 별매/솔형/틈새/연장관/먼지봉투: 1.2L/[배터리] 사용시간: 1시간(최대)/분리형(1개)/리튬이온/[청소] LED라이트/싸이클론흡입/디지털인버터모터/워셔블헤파필터/크기(가로x세로x깊이): 250x930x202mm', '456820'], ['삼성전자 비스포크 제트 VS20B956AX', '핸디스틱청소기/무선/흡입형/흡입력: 220W/스테이션 기능: 먼지비움, 충전, UVC LED, 스탠드거치/먼지비움시간: 14초/브러쉬: 바닥/물걸레: 별매/솔형/틈새/연장관/먼지봉투: 1.2L/[배터리] 사용시간: 1시간(최대)/분리형(1개)/리튬이온/[청소] LED라이트/싸이클론흡입/디지털인버터모터/워셔블헤파필터/크기(가로x세로x깊이): 250x930x202mm', '456820'], ['삼성전자 비스포크 제트 VS20B956AX', '핸디스틱청소기/무선/흡입형/흡입력: 220W/스테이션 기능: 먼지비움, 충전, UVC LED, 스탠드거치/먼지비움시간: 14초/브러쉬: 바닥/물걸레: 별매/솔형/틈새/연장관/먼지봉투: 1.2L/[배터리] 사용시간: 1시간(최대)/분리형(1개)/리튬이온/[청소] LED라이트/싸이클론흡입/디지털인버터모터/워셔블헤파필터/크기(가로x세로x깊이): 250x930x202mm', '456820'], ['삼성전자 비스포크 제트 VS20B956AX', '핸디스틱청소기/무선/흡입형/흡입력: 220W/스테이션 기능: 먼지비움, 충전, UVC LED, 스탠드거치/먼지비움시간: 14초/브러쉬: 바닥/물걸레: 별매/솔형/틈새/연장관/먼지봉투: 1.2L/[배터리] 사용시간: 1시간(최대)/분리형(1개)/리튬이온/[청소] LED라이트/싸이클론흡입/디지털인버터모터/워셔블헤파필터/크기(가로x세로x깊이): 250x930x202mm', '456820'], ['삼성전자 비스포크 제트 VS20B956AX', '핸디스틱청소기/무선/흡입형/흡입력: 220W/스테이션 기능: 먼지비움, 충전, UVC LED, 스탠드거치/먼지비움시간: 14초/브러쉬: 바닥/물걸레: 별매/솔형/틈새/연장관/먼지봉투: 1.2L/[배터리] 사용시간: 1시간(최대)/분리형(1개)/리튬이온/[청소] LED라이트/싸이클론흡입/디지털인버터모터/워셔블헤파필터/크기(가로x세로x깊이): 250x930x202mm', '456820'], ['삼성전자 비스포크 제트 VS20B956AX', '핸디스틱청소기/무선/흡입형/흡입력: 220W/스테이션 기능: 먼지비움, 충전, UVC LED, 스탠드거치/먼지비움시간: 14초/브러쉬: 바닥/물걸레: 별매/솔형/틈새/연장관/먼지봉투: 1.2L/[배터리] 사용시간: 1시간(최대)/분리형(1개)/리튬이온/[청소] LED라이트/싸이클론흡입/디지털인버터모터/워셔블헤파필터/크기(가로x세로x깊이): 250x930x202mm', '456820'], ['삼성전자 비스포크 제트 VS20B956AX', '핸디스틱청소기/무선/흡입형/흡입력: 220W/스테이션 기능: 먼지비움, 충전, UVC LED, 스탠드거치/먼지비움시간: 14초/브러쉬: 바닥/물걸레: 별매/솔형/틈새/연장관/먼지봉투: 1.2L/[배터리] 사용시간: 1시간(최대)/분리형(1개)/리튬이온/[청소] LED라이트/싸이클론흡입/디지털인버터모터/워셔블헤파필터/크기(가로x세로x깊이): 250x930x202mm', '456820'], ['삼성전자 비스포크 제트 VS20B956AX', '핸디스틱청소기/무선/흡입형/흡입력: 220W/스테이션 기능: 먼지비움, 충전, UVC LED, 스탠드거치/먼지비움시간: 14초/브러쉬: 바닥/물걸레: 별매/솔형/틈새/연장관/먼지봉투: 1.2L/[배터리] 사용시간: 1시간(최대)/분리형(1개)/리튬이온/[청소] LED라이트/싸이클론흡입/디지털인버터모터/워셔블헤파필터/크기(가로x세로x깊이): 250x930x202mm', '456820'], ['삼성전자 비스포크 제트 VS20B956AX', '핸디스틱청소기/무선/흡입형/흡입력: 220W/스테이션 기능: 먼지비움, 충전, UVC LED, 스탠드거치/먼지비움시간: 14초/브러쉬: 바닥/물걸레: 별매/솔형/틈새/연장관/먼지봉투: 1.2L/[배터리] 사용시간: 1시간(최대)/분리형(1개)/리튬이온/[청소] LED라이트/싸이클론흡입/디지털인버터모터/워셔블헤파필터/크기(가로x세로x깊이): 250x930x202mm', '456820'], ['삼성전자 비스포크 제트 VS20B956AX', '핸디스틱청소기/무선/흡입형/흡입력: 220W/스테이션 기능: 먼지비움, 충전, UVC LED, 스탠드거치/먼지비움시간: 14초/브러쉬: 바닥/물걸레: 별매/솔형/틈새/연장관/먼지봉투: 1.2L/[배터리] 사용시간: 1시간(최대)/분리형(1개)/리튬이온/[청소] LED라이트/싸이클론흡입/디지털인버터모터/워셔블헤파필터/크기(가로x세로x깊이): 250x930x202mm', '456820'], ['삼성전자 비스포크 제트 VS20B956AX', '핸디스틱청소기/무선/흡입형/흡입력: 220W/스테이션 기능: 먼지비움, 충전, UVC LED, 스탠드거치/먼지비움시간: 14초/브러쉬: 바닥/물걸레: 별매/솔형/틈새/연장관/먼지봉투: 1.2L/[배터리] 사용시간: 1시간(최대)/분리형(1개)/리튬이온/[청소] LED라이트/싸이클론흡입/디지털인버터모터/워셔블헤파필터/크기(가로x세로x깊이): 250x930x202mm', '456820'], ['삼성전자 비스포크 제트 VS20B956AX', '핸디스틱청소기/무선/흡입형/흡입력: 220W/스테이션 기능: 먼지비움, 충전, UVC LED, 스탠드거치/먼지비움시간: 14초/브러쉬: 바닥/물걸레: 별매/솔형/틈새/연장관/먼지봉투: 1.2L/[배터리] 사용시간: 1시간(최대)/분리형(1개)/리튬이온/[청소] LED라이트/싸이클론흡입/디지털인버터모터/워셔블헤파필터/크기(가로x세로x깊이): 250x930x202mm', '456820'], ['삼성전자 비스포크 제트 VS20B956AX', '핸디스틱청소기/무선/흡입형/흡입력: 220W/스테이션 기능: 먼지비움, 충전, UVC LED, 스탠드거치/먼지비움시간: 14초/브러쉬: 바닥/물걸레: 별매/솔형/틈새/연장관/먼지봉투: 1.2L/[배터리] 사용시간: 1시간(최대)/분리형(1개)/리튬이온/[청소] LED라이트/싸이클론흡입/디지털인버터모터/워셔블헤파필터/크기(가로x세로x깊이): 250x930x202mm', '456820'], ['삼성전자 비스포크 제트 VS20B956AX', '핸디스틱청소기/무선/흡입형/흡입력: 220W/스테이션 기능: 먼지비움, 충전, UVC LED, 스탠드거치/먼지비움시간: 14초/브러쉬: 바닥/물걸레: 별매/솔형/틈새/연장관/먼지봉투: 1.2L/[배터리] 사용시간: 1시간(최대)/분리형(1개)/리튬이온/[청소] LED라이트/싸이클론흡입/디지털인버터모터/워셔블헤파필터/크기(가로x세로x깊이): 250x930x202mm', '456820'], ['삼성전자 비스포크 제트 VS20B956AX', '핸디스틱청소기/무선/흡입형/흡입력: 220W/스테이션 기능: 먼지비움, 충전, UVC LED, 스탠드거치/먼지비움시간: 14초/브러쉬: 바닥/물걸레: 별매/솔형/틈새/연장관/먼지봉투: 1.2L/[배터리] 사용시간: 1시간(최대)/분리형(1개)/리튬이온/[청소] LED라이트/싸이클론흡입/디지털인버터모터/워셔블헤파필터/크기(가로x세로x깊이): 250x930x202mm', '456820'], ['삼성전자 비스포크 제트 VS20B956AX', '핸디스틱청소기/무선/흡입형/흡입력: 220W/스테이션 기능: 먼지비움, 충전, UVC LED, 스탠드거치/먼지비움시간: 14초/브러쉬: 바닥/물걸레: 별매/솔형/틈새/연장관/먼지봉투: 1.2L/[배터리] 사용시간: 1시간(최대)/분리형(1개)/리튬이온/[청소] LED라이트/싸이클론흡입/디지털인버터모터/워셔블헤파필터/크기(가로x세로x깊이): 250x930x202mm', '456820'], ['삼성전자 비스포크 제트 VS20B956AX', '핸디스틱청소기/무선/흡입형/흡입력: 220W/스테이션 기능: 먼지비움, 충전, UVC LED, 스탠드거치/먼지비움시간: 14초/브러쉬: 바닥/물걸레: 별매/솔형/틈새/연장관/먼지봉투: 1.2L/[배터리] 사용시간: 1시간(최대)/분리형(1개)/리튬이온/[청소] LED라이트/싸이클론흡입/디지털인버터모터/워셔블헤파필터/크기(가로x세로x깊이): 250x930x202mm', '456820'], ['삼성전자 비스포크 제트 VS20B956AX', '핸디스틱청소기/무선/흡입형/흡입력: 220W/스테이션 기능: 먼지비움, 충전, UVC LED, 스탠드거치/먼지비움시간: 14초/브러쉬: 바닥/물걸레: 별매/솔형/틈새/연장관/먼지봉투: 1.2L/[배터리] 사용시간: 1시간(최대)/분리형(1개)/리튬이온/[청소] LED라이트/싸이클론흡입/디지털인버터모터/워셔블헤파필터/크기(가로x세로x깊이): 250x930x202mm', '456820'], ['삼성전자 비스포크 제트 VS20B956AX', '핸디스틱청소기/무선/흡입형/흡입력: 220W/스테이션 기능: 먼지비움, 충전, UVC LED, 스탠드거치/먼지비움시간: 14초/브러쉬: 바닥/물걸레: 별매/솔형/틈새/연장관/먼지봉투: 1.2L/[배터리] 사용시간: 1시간(최대)/분리형(1개)/리튬이온/[청소] LED라이트/싸이클론흡입/디지털인버터모터/워셔블헤파필터/크기(가로x세로x깊이): 250x930x202mm', '456820'], ['삼성전자 비스포크 제트 VS20B956AX', '핸디스틱청소기/무선/흡입형/흡입력: 220W/스테이션 기능: 먼지비움, 충전, UVC LED, 스탠드거치/먼지비움시간: 14초/브러쉬: 바닥/물걸레: 별매/솔형/틈새/연장관/먼지봉투: 1.2L/[배터리] 사용시간: 1시간(최대)/분리형(1개)/리튬이온/[청소] LED라이트/싸이클론흡입/디지털인버터모터/워셔블헤파필터/크기(가로x세로x깊이): 250x930x202mm', '456820'], ['삼성전자 비스포크 제트 VS20B956AX', '핸디스틱청소기/무선/흡입형/흡입력: 220W/스테이션 기능: 먼지비움, 충전, UVC LED, 스탠드거치/먼지비움시간: 14초/브러쉬: 바닥/물걸레: 별매/솔형/틈새/연장관/먼지봉투: 1.2L/[배터리] 사용시간: 1시간(최대)/분리형(1개)/리튬이온/[청소] LED라이트/싸이클론흡입/디지털인버터모터/워셔블헤파필터/크기(가로x세로x깊이): 250x930x202mm', '456820'], ['삼성전자 비스포크 제트 VS20B956AX', '핸디스틱청소기/무선/흡입형/흡입력: 220W/스테이션 기능: 먼지비움, 충전, UVC LED, 스탠드거치/먼지비움시간: 14초/브러쉬: 바닥/물걸레: 별매/솔형/틈새/연장관/먼지봉투: 1.2L/[배터리] 사용시간: 1시간(최대)/분리형(1개)/리튬이온/[청소] LED라이트/싸이클론흡입/디지털인버터모터/워셔블헤파필터/크기(가로x세로x깊이): 250x930x202mm', '456820'], ['삼성전자 비스포크 제트 VS20B956AX', '핸디스틱청소기/무선/흡입형/흡입력: 220W/스테이션 기능: 먼지비움, 충전, UVC LED, 스탠드거치/먼지비움시간: 14초/브러쉬: 바닥/물걸레: 별매/솔형/틈새/연장관/먼지봉투: 1.2L/[배터리] 사용시간: 1시간(최대)/분리형(1개)/리튬이온/[청소] LED라이트/싸이클론흡입/디지털인버터모터/워셔블헤파필터/크기(가로x세로x깊이): 250x930x202mm', '456820'], ['삼성전자 비스포크 제트 VS20B956AX', '핸디스틱청소기/무선/흡입형/흡입력: 220W/스테이션 기능: 먼지비움, 충전, UVC LED, 스탠드거치/먼지비움시간: 14초/브러쉬: 바닥/물걸레: 별매/솔형/틈새/연장관/먼지봉투: 1.2L/[배터리] 사용시간: 1시간(최대)/분리형(1개)/리튬이온/[청소] LED라이트/싸이클론흡입/디지털인버터모터/워셔블헤파필터/크기(가로x세로x깊이): 250x930x202mm', '456820'], ['삼성전자 비스포크 제트 VS20B956AX', '핸디스틱청소기/무선/흡입형/흡입력: 220W/스테이션 기능: 먼지비움, 충전, UVC LED, 스탠드거치/먼지비움시간: 14초/브러쉬: 바닥/물걸레: 별매/솔형/틈새/연장관/먼지봉투: 1.2L/[배터리] 사용시간: 1시간(최대)/분리형(1개)/리튬이온/[청소] LED라이트/싸이클론흡입/디지털인버터모터/워셔블헤파필터/크기(가로x세로x깊이): 250x930x202mm', '456820'], ['삼성전자 비스포크 제트 VS20B956AX', '핸디스틱청소기/무선/흡입형/흡입력: 220W/스테이션 기능: 먼지비움, 충전, UVC LED, 스탠드거치/먼지비움시간: 14초/브러쉬: 바닥/물걸레: 별매/솔형/틈새/연장관/먼지봉투: 1.2L/[배터리] 사용시간: 1시간(최대)/분리형(1개)/리튬이온/[청소] LED라이트/싸이클론흡입/디지털인버터모터/워셔블헤파필터/크기(가로x세로x깊이): 250x930x202mm', '456820'], ['삼성전자 비스포크 제트 VS20B956AX', '핸디스틱청소기/무선/흡입형/흡입력: 220W/스테이션 기능: 먼지비움, 충전, UVC LED, 스탠드거치/먼지비움시간: 14초/브러쉬: 바닥/물걸레: 별매/솔형/틈새/연장관/먼지봉투: 1.2L/[배터리] 사용시간: 1시간(최대)/분리형(1개)/리튬이온/[청소] LED라이트/싸이클론흡입/디지털인버터모터/워셔블헤파필터/크기(가로x세로x깊이): 250x930x202mm', '456820'], ['삼성전자 비스포크 제트 VS20B956AX', '핸디스틱청소기/무선/흡입형/흡입력: 220W/스테이션 기능: 먼지비움, 충전, UVC LED, 스탠드거치/먼지비움시간: 14초/브러쉬: 바닥/물걸레: 별매/솔형/틈새/연장관/먼지봉투: 1.2L/[배터리] 사용시간: 1시간(최대)/분리형(1개)/리튬이온/[청소] LED라이트/싸이클론흡입/디지털인버터모터/워셔블헤파필터/크기(가로x세로x깊이): 250x930x202mm', '456820'], ['삼성전자 비스포크 제트 VS20B956AX', '핸디스틱청소기/무선/흡입형/흡입력: 220W/스테이션 기능: 먼지비움, 충전, UVC LED, 스탠드거치/먼지비움시간: 14초/브러쉬: 바닥/물걸레: 별매/솔형/틈새/연장관/먼지봉투: 1.2L/[배터리] 사용시간: 1시간(최대)/분리형(1개)/리튬이온/[청소] LED라이트/싸이클론흡입/디지털인버터모터/워셔블헤파필터/크기(가로x세로x깊이): 250x930x202mm', '456820'], ['삼성전자 비스포크 제트 VS20B956AX', '핸디스틱청소기/무선/흡입형/흡입력: 220W/스테이션 기능: 먼지비움, 충전, UVC LED, 스탠드거치/먼지비움시간: 14초/브러쉬: 바닥/물걸레: 별매/솔형/틈새/연장관/먼지봉투: 1.2L/[배터리] 사용시간: 1시간(최대)/분리형(1개)/리튬이온/[청소] LED라이트/싸이클론흡입/디지털인버터모터/워셔블헤파필터/크기(가로x세로x깊이): 250x930x202mm', '456820']]\n"
     ]
    }
   ],
   "source": [
    "# 위의 코드를 이용하여 첫 페이지의 30개 상품의 정보를 수집하는 코드를 만든다\n",
    "\n",
    "prod_data = []\n",
    "\n",
    "for prod_item in prod_items:\n",
    "    try: #상품명\n",
    "        title = prod_items[0].select('p.prod_name > a')[0].text.strip()\n",
    "    except:\n",
    "        title = ''\n",
    "    try: #스펙\n",
    "        spec_list = prod_items[0].select('div.spec_list')[0].text.strip()\n",
    "    except:\n",
    "        spec_list = ''\n",
    "    try: #가격\n",
    "        price_list = prod_items[0].select('p.price_sect > a > strong')[0].text.strip().replace(\",\",\"\")\n",
    "    except:\n",
    "        price = 0\n",
    "    prod_data.append([title, spec_list, price])\n",
    "\n",
    "print(len(prod_data))\n",
    "print(prod_data)"
   ]
  },
  {
   "cell_type": "code",
   "execution_count": 7,
   "id": "4894798f-6ed9-45ae-a725-b7c3f0089811",
   "metadata": {},
   "outputs": [],
   "source": [
    "def get_prod_items(prod_items):\n",
    "    prod_data = []\n",
    "\n",
    "    for prod_item in prod_items:\n",
    "    #상품명\n",
    "        try:\n",
    "            title = prod_item.select('p.prod_name > a')[0].text.strip()\n",
    "        except:\n",
    "            title = ''\n",
    "    #스펙\n",
    "        try:\n",
    "            spec_list = prod_item.select('div.spec_list')[0].text.strip()\n",
    "        except:\n",
    "            spec_list = ''\n",
    "    #가격\n",
    "        try:\n",
    "            price = prod_items[0].select('li.rank_one > p.price_sect > a > strong')[0].text.strip().replace(\",\", \"\")\n",
    "        except:\n",
    "            price = 0\n",
    "        \n",
    "        prod_data.append([title, spec_list, price])\n",
    "\n",
    "    return prod_data"
   ]
  },
  {
   "cell_type": "code",
   "execution_count": 8,
   "id": "36ae8b51-1b86-467f-9eee-a94092c3e804",
   "metadata": {},
   "outputs": [
    {
     "name": "stdout",
     "output_type": "stream",
     "text": [
      "http://search.danawa.com/dsearch.php?query=무선청소기&volumneType=allvs&page=1&limit=30&sork=saveDESC&list=list&boost=true&addDelivery=N&tab=goods&tab=goods\n"
     ]
    }
   ],
   "source": [
    "# 여러 페이지를 반복적으로 처리할 것이어서 url을 만드는 함수를 별도로 만들었다.\n",
    "\n",
    "def get_search_page_url(keyword, page):\n",
    "    return 'http://search.danawa.com/dsearch.php?query={}&volumneType=allvs&page={}&limit=30&sork=saveDESC&list=list&boost=true&addDelivery=N&tab=goods&tab=goods'.format(keyword, page)\n",
    "\n",
    "keyword = '무선청소기'\n",
    "page = 1\n",
    "url = get_search_page_url(keyword, page)\n",
    "print(url)"
   ]
  },
  {
   "cell_type": "code",
   "execution_count": 9,
   "id": "7bde3c2c-b20d-4f54-94e8-e60082d91d27",
   "metadata": {},
   "outputs": [
    {
     "data": {
      "application/vnd.jupyter.widget-view+json": {
       "model_id": "e177eca394444282b9246a1b5b340c84",
       "version_major": 2,
       "version_minor": 0
      },
      "text/plain": [
       "  0%|          | 0/10 [00:00<?, ?it/s]"
      ]
     },
     "metadata": {},
     "output_type": "display_data"
    }
   ],
   "source": [
    "# 크롤링 과정이 길 것으로 예상되기 때문에 tpdm 모듈을 이용하여 진행 단계를 파악한다.\n",
    "\n",
    "import time\n",
    "from tqdm.notebook import tqdm\n",
    "\n",
    "total_page = 10\n",
    "for page in tqdm(range(1, total_page + 1)):\n",
    "    # 페이지가 로딩 완료되기 위한 시간을 5초로 한다\n",
    "    time.sleep(5)"
   ]
  },
  {
   "cell_type": "code",
   "execution_count": 10,
   "id": "78679ad2-fe8c-434a-9e55-b358defb6467",
   "metadata": {},
   "outputs": [
    {
     "data": {
      "application/vnd.jupyter.widget-view+json": {
       "model_id": "7dbf9a8c06f247c1bc177e5e644a71e8",
       "version_major": 2,
       "version_minor": 0
      },
      "text/plain": [
       "  0%|          | 0/10 [00:00<?, ?it/s]"
      ]
     },
     "metadata": {},
     "output_type": "display_data"
    }
   ],
   "source": [
    "# 이전에는 한 페이지의 상품 정보를 수집했다면 이번에는 상품 검색 결과에서 전체 페이지의 상품 정보를 수집한다.\n",
    "\n",
    "chrome_options = Options()\n",
    "chrome_options.add_experimental_option(\"detach\", True)  # 브라우저 자동 종료 방지\n",
    "chrome_options.add_experimental_option(\"excludeSwitches\", [\"enable-logging\"])  # 불필요한 에러 메시지 제거\n",
    "\n",
    "# WebDriver 초기화\n",
    "browser = webdriver.Chrome(\n",
    "    service=Service('C:/Users/dbsgu/chromedriver-win64/chromedriver.exe'),\n",
    "    options=chrome_options\n",
    ")\n",
    "driver.implicitly_wait(3)\n",
    "\n",
    "keyword = '무선청소기'\n",
    "total_page = 10\n",
    "prod_data_total = []\n",
    "\n",
    "# 진행 정도를 보여주는 tqdm\n",
    "for page in tqdm(range(1, total_page + 1)):\n",
    "    url = get_search_page_url(keyword, page)\n",
    "    driver.get(url)\n",
    "    time.sleep(5)\n",
    "    # 현재 페이지의 html 정보\n",
    "    html = driver.page_source\n",
    "    soup = BeautifulSoup(html, 'html.parser')\n",
    "    # 상품 정보 추출\n",
    "    prod_items = soup.select('div#productListArea > div.main_prodlist > ul.product_list > li.prod_item')\n",
    "    prod_item_list = get_prod_items(prod_items)\n",
    "    # 추출 데이터 저장\n",
    "    prod_data_total = prod_data_total + prod_item_list"
   ]
  },
  {
   "cell_type": "code",
   "execution_count": 11,
   "id": "5b128238-82a9-422d-b89a-39e21a6a4059",
   "metadata": {},
   "outputs": [],
   "source": [
    "data = pd.DataFrame(prod_data_total)\n",
    "data.columns = ['상품명', '스펙 목록', '가격']\n",
    "data.to_excel('C:/Users/dbsgu/danawa_crawling_result.xlsx', index = False)"
   ]
  },
  {
   "cell_type": "code",
   "execution_count": null,
   "id": "9db130c8-20df-49b5-9a17-b34a34be2c54",
   "metadata": {},
   "outputs": [],
   "source": []
  }
 ],
 "metadata": {
  "kernelspec": {
   "display_name": "Python 3 (ipykernel)",
   "language": "python",
   "name": "python3"
  },
  "language_info": {
   "codemirror_mode": {
    "name": "ipython",
    "version": 3
   },
   "file_extension": ".py",
   "mimetype": "text/x-python",
   "name": "python",
   "nbconvert_exporter": "python",
   "pygments_lexer": "ipython3",
   "version": "3.11.7"
  }
 },
 "nbformat": 4,
 "nbformat_minor": 5
}
